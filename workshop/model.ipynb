{
 "cells": [
  {
   "cell_type": "code",
   "execution_count": 11,
   "metadata": {},
   "outputs": [],
   "source": [
    "# Values of a healthy heart\n",
    "V = 5\n",
    "Rs = 17.5\n",
    "Rp = 1.79\n",
    "Kr = 2.8\n",
    "Kl = 1.12\n",
    "\n",
    "# Values of a heart with heart fealure\n",
    "# Rs = 6.82\n",
    "# Rp = 1.36\n",
    "# Kr = 4.72\n",
    "# Kl = 9.5\n",
    "\n",
    "# Values of a heart with hypertension\n",
    "# Rs = 40.5\n",
    "# Rp = 3.21\n",
    "# Kr = 3\n",
    "# Kl = 1.7"
   ]
  },
  {
   "cell_type": "code",
   "execution_count": 12,
   "metadata": {},
   "outputs": [],
   "source": [
    "from sympy import Symbol\n",
    "\n",
    "# Definition of variables\n",
    "Csa = Symbol('Csa')\n",
    "Csv = Symbol('Csv')\n",
    "Cpa = Symbol('Cpa')\n",
    "Cpv = Symbol('Cpv')"
   ]
  },
  {
   "cell_type": "code",
   "execution_count": 13,
   "metadata": {},
   "outputs": [],
   "source": [
    "# Definition of equations\n",
    "Tsa = Csa/Kr+Csa*Rs\n",
    "Tsv = Csv/Kr\n",
    "Tpa = Cpa/Kl+Cpa*Rp\n",
    "Tpv = Cpv/Kl\n",
    "\n",
    "Tsum = Tsa+Tsv+Tpa+Tpv"
   ]
  },
  {
   "cell_type": "code",
   "execution_count": 14,
   "metadata": {},
   "outputs": [],
   "source": [
    "from sympy.utilities.lambdify import lambdify\n",
    "\n",
    "# Volumes\n",
    "Vsa = Tsa*V/Tsum\n",
    "Vsv = Tsv*V/Tsum\n",
    "Vpa = Tpa*V/Tsum\n",
    "Vpv = Tpv*V/Tsum\n",
    "Vsum = Vsa+Vsv + Vpa+Vpv\n",
    "Vtot = lambdify((Csa,Csv,Cpa,Cpv), \n",
    "            Vsum)"
   ]
  },
  {
   "cell_type": "code",
   "execution_count": 15,
   "metadata": {},
   "outputs": [],
   "source": [
    "# Pressures\n",
    "Psa = Tsa*V/ (Csa*Tsum)\n",
    "Psv = Tsv*V/ (Csv*Tsum)\n",
    "Ppa = Tpa*V/ (Cpa*Tsum)\n",
    "Ppv = Tpv*V/ (Cpv*Tsum)"
   ]
  },
  {
   "cell_type": "code",
   "execution_count": 16,
   "metadata": {},
   "outputs": [],
   "source": [
    "from sympy.utilities.lambdify import lambdify\n",
    "# Objective Function\n",
    "f_obj = V/(Tsum)\n",
    "f = lambdify((Csa, Csv, Cpa, Cpv), f_obj)"
   ]
  },
  {
   "cell_type": "code",
   "execution_count": 17,
   "metadata": {},
   "outputs": [],
   "source": [
    "from sympy.tensor.array import derive_by_array\n",
    "\n",
    "# Partial derivatives of objective function\n",
    "partial = derive_by_array(f_obj, (Csa, Csv, Cpa, Cpv))\n",
    "grad = lambdify((Csa, Csv, Cpa, Cpv), \n",
    "            partial)"
   ]
  },
  {
   "cell_type": "code",
   "execution_count": 18,
   "metadata": {},
   "outputs": [],
   "source": [
    "# Tolerance - num iterations\n",
    "# tol = 0.001\n",
    "n = 10000\n",
    "\n",
    "# Start seed for the random function\n",
    "# np.random.seed(1)"
   ]
  },
  {
   "cell_type": "code",
   "execution_count": 19,
   "metadata": {},
   "outputs": [],
   "source": [
    "import numpy as np\n",
    "\n",
    "# Generate random values for init Cpa, Cpv, Csa, Csv\n",
    "x = np.random.rand(4)\n",
    "\n",
    "min_val = 5000000\n",
    "min_x = x"
   ]
  },
  {
   "cell_type": "code",
   "execution_count": 20,
   "metadata": {},
   "outputs": [
    {
     "name": "stdout",
     "output_type": "stream",
     "text": [
      " Csa: 0.7830958927947904 \n",
      " Csv: 0.00029997638464297934 \n",
      " Cpa: 0.4825289899818529 \n",
      " Cpv: 0.2756002171370858 \n",
      "\n"
     ]
    }
   ],
   "source": [
    "while(n > 0):\n",
    "    # Check all x are positive\n",
    "    for val in x:\n",
    "        if val < 0:\n",
    "            val = abs(val)\n",
    "\n",
    "    # Check the volume restriction\n",
    "    act_v = Vtot(x[0],x[1],x[2],x[3])\n",
    "\n",
    "    if act_v != V:\n",
    "        y = V*np.ones(4)\n",
    "        diff = np.abs(np.subtract(x,y))\n",
    "        val, idx = min((val,idx) for (idx,val) in enumerate(diff))\n",
    "        x[idx] = val\n",
    "\n",
    "    # Calculate gradient given the points\n",
    "    g = grad(x[0],x[1],x[2],x[3])\n",
    "\n",
    "    # Calculate the value of the objective function\n",
    "    act = f(x[0],x[1],x[2],x[3])\n",
    "\n",
    "    if(act< min_val):\n",
    "        min_val = act\n",
    "        min_x = x\n",
    "\n",
    "    # Modify the actual value depending the gradient\n",
    "    val, idx = max((val, idx) for (idx, val) in enumerate(g))\n",
    "    x[idx] = abs(x[idx]+val)\n",
    "    n = n - 1\n",
    "\n",
    "print(' Csa: {} \\n Csv: {} \\n Cpa: {} \\n Cpv: {} \\n'.format(\n",
    "          min_x[0], min_x[1], min_x[2], min_x[3]))\n"
   ]
  },
  {
   "cell_type": "code",
   "execution_count": null,
   "metadata": {},
   "outputs": [],
   "source": []
  }
 ],
 "metadata": {
  "kernelspec": {
   "display_name": "Python 3",
   "language": "python",
   "name": "python3"
  },
  "language_info": {
   "codemirror_mode": {
    "name": "ipython",
    "version": 3
   },
   "file_extension": ".py",
   "mimetype": "text/x-python",
   "name": "python",
   "nbconvert_exporter": "python",
   "pygments_lexer": "ipython3",
   "version": "3.7.4"
  }
 },
 "nbformat": 4,
 "nbformat_minor": 4
}
